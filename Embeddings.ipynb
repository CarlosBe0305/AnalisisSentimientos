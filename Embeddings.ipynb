{
  "nbformat": 4,
  "nbformat_minor": 0,
  "metadata": {
    "colab": {
      "provenance": [],
      "include_colab_link": true
    },
    "kernelspec": {
      "name": "python3",
      "display_name": "Python 3"
    },
    "language_info": {
      "name": "python"
    }
  },
  "cells": [
    {
      "cell_type": "markdown",
      "metadata": {
        "id": "view-in-github",
        "colab_type": "text"
      },
      "source": [
        "<a href=\"https://colab.research.google.com/github/CarlosBe0305/AnalisisSentimientos/blob/main/Embeddings.ipynb\" target=\"_parent\"><img src=\"https://colab.research.google.com/assets/colab-badge.svg\" alt=\"Open In Colab\"/></a>"
      ]
    },
    {
      "cell_type": "markdown",
      "source": [
        "**EMBEDDINGS**\n",
        "\n",
        "Los embeddings son representaciones Vectoriales de palabras o textos. Nos sirven para realizar \"Operaciones\" con palabras o para encontrar relaciones entre ellas."
      ],
      "metadata": {
        "id": "ovxelhHbS9BW"
      }
    },
    {
      "cell_type": "markdown",
      "source": [
        "Cargamos las dependencias necesarias para el taller"
      ],
      "metadata": {
        "id": "e3u1-Q2iSnYA"
      }
    },
    {
      "cell_type": "code",
      "source": [
        "!pip install openai"
      ],
      "metadata": {
        "colab": {
          "base_uri": "https://localhost:8080/"
        },
        "id": "hg7ZxTMDz7qr",
        "outputId": "d6a638c0-5213-4aa8-ac01-c659aef2d326"
      },
      "execution_count": null,
      "outputs": [
        {
          "output_type": "stream",
          "name": "stdout",
          "text": [
            "Looking in indexes: https://pypi.org/simple, https://us-python.pkg.dev/colab-wheels/public/simple/\n",
            "Collecting openai\n",
            "  Downloading openai-0.27.7-py3-none-any.whl (71 kB)\n",
            "\u001b[2K     \u001b[90m━━━━━━━━━━━━━━━━━━━━━━━━━━━━━━━━━━━━━━━━\u001b[0m \u001b[32m72.0/72.0 kB\u001b[0m \u001b[31m2.9 MB/s\u001b[0m eta \u001b[36m0:00:00\u001b[0m\n",
            "\u001b[?25hRequirement already satisfied: requests>=2.20 in /usr/local/lib/python3.10/dist-packages (from openai) (2.27.1)\n",
            "Requirement already satisfied: tqdm in /usr/local/lib/python3.10/dist-packages (from openai) (4.65.0)\n",
            "Collecting aiohttp (from openai)\n",
            "  Downloading aiohttp-3.8.4-cp310-cp310-manylinux_2_17_x86_64.manylinux2014_x86_64.whl (1.0 MB)\n",
            "\u001b[2K     \u001b[90m━━━━━━━━━━━━━━━━━━━━━━━━━━━━━━━━━━━━━━━━\u001b[0m \u001b[32m1.0/1.0 MB\u001b[0m \u001b[31m21.6 MB/s\u001b[0m eta \u001b[36m0:00:00\u001b[0m\n",
            "\u001b[?25hRequirement already satisfied: urllib3<1.27,>=1.21.1 in /usr/local/lib/python3.10/dist-packages (from requests>=2.20->openai) (1.26.15)\n",
            "Requirement already satisfied: certifi>=2017.4.17 in /usr/local/lib/python3.10/dist-packages (from requests>=2.20->openai) (2022.12.7)\n",
            "Requirement already satisfied: charset-normalizer~=2.0.0 in /usr/local/lib/python3.10/dist-packages (from requests>=2.20->openai) (2.0.12)\n",
            "Requirement already satisfied: idna<4,>=2.5 in /usr/local/lib/python3.10/dist-packages (from requests>=2.20->openai) (3.4)\n",
            "Requirement already satisfied: attrs>=17.3.0 in /usr/local/lib/python3.10/dist-packages (from aiohttp->openai) (23.1.0)\n",
            "Collecting multidict<7.0,>=4.5 (from aiohttp->openai)\n",
            "  Downloading multidict-6.0.4-cp310-cp310-manylinux_2_17_x86_64.manylinux2014_x86_64.whl (114 kB)\n",
            "\u001b[2K     \u001b[90m━━━━━━━━━━━━━━━━━━━━━━━━━━━━━━━━━━━━━━\u001b[0m \u001b[32m114.5/114.5 kB\u001b[0m \u001b[31m12.1 MB/s\u001b[0m eta \u001b[36m0:00:00\u001b[0m\n",
            "\u001b[?25hCollecting async-timeout<5.0,>=4.0.0a3 (from aiohttp->openai)\n",
            "  Downloading async_timeout-4.0.2-py3-none-any.whl (5.8 kB)\n",
            "Collecting yarl<2.0,>=1.0 (from aiohttp->openai)\n",
            "  Downloading yarl-1.9.2-cp310-cp310-manylinux_2_17_x86_64.manylinux2014_x86_64.whl (268 kB)\n",
            "\u001b[2K     \u001b[90m━━━━━━━━━━━━━━━━━━━━━━━━━━━━━━━━━━━━━━\u001b[0m \u001b[32m268.8/268.8 kB\u001b[0m \u001b[31m25.6 MB/s\u001b[0m eta \u001b[36m0:00:00\u001b[0m\n",
            "\u001b[?25hCollecting frozenlist>=1.1.1 (from aiohttp->openai)\n",
            "  Downloading frozenlist-1.3.3-cp310-cp310-manylinux_2_5_x86_64.manylinux1_x86_64.manylinux_2_17_x86_64.manylinux2014_x86_64.whl (149 kB)\n",
            "\u001b[2K     \u001b[90m━━━━━━━━━━━━━━━━━━━━━━━━━━━━━━━━━━━━━━\u001b[0m \u001b[32m149.6/149.6 kB\u001b[0m \u001b[31m16.7 MB/s\u001b[0m eta \u001b[36m0:00:00\u001b[0m\n",
            "\u001b[?25hCollecting aiosignal>=1.1.2 (from aiohttp->openai)\n",
            "  Downloading aiosignal-1.3.1-py3-none-any.whl (7.6 kB)\n",
            "Installing collected packages: multidict, frozenlist, async-timeout, yarl, aiosignal, aiohttp, openai\n",
            "Successfully installed aiohttp-3.8.4 aiosignal-1.3.1 async-timeout-4.0.2 frozenlist-1.3.3 multidict-6.0.4 openai-0.27.7 yarl-1.9.2\n"
          ]
        }
      ]
    },
    {
      "cell_type": "code",
      "execution_count": null,
      "metadata": {
        "id": "fJUJLWQ92g6R",
        "colab": {
          "base_uri": "https://localhost:8080/"
        },
        "outputId": "0602d2f7-bd0e-494f-d027-40a0100a4e91"
      },
      "outputs": [
        {
          "output_type": "stream",
          "name": "stdout",
          "text": [
            "\u001b[2K     \u001b[90m━━━━━━━━━━━━━━━━━━━━━━━━━━━━━━━━━━━━━━━━\u001b[0m \u001b[32m19.9/19.9 MB\u001b[0m \u001b[31m46.7 MB/s\u001b[0m eta \u001b[36m0:00:00\u001b[0m\n",
            "\u001b[2K     \u001b[90m━━━━━━━━━━━━━━━━━━━━━━━━━━━━━━━━━━━━━━━━\u001b[0m \u001b[32m57.0/57.0 kB\u001b[0m \u001b[31m6.0 MB/s\u001b[0m eta \u001b[36m0:00:00\u001b[0m\n",
            "\u001b[?25h  Preparing metadata (setup.py) ... \u001b[?25l\u001b[?25hdone\n",
            "\u001b[2K     \u001b[90m━━━━━━━━━━━━━━━━━━━━━━━━━━━━━━━━━━━━━━\u001b[0m \u001b[32m288.1/288.1 kB\u001b[0m \u001b[31m25.9 MB/s\u001b[0m eta \u001b[36m0:00:00\u001b[0m\n",
            "\u001b[2K     \u001b[90m━━━━━━━━━━━━━━━━━━━━━━━━━━━━━━━━━━━━━━━━\u001b[0m \u001b[32m75.4/75.4 kB\u001b[0m \u001b[31m6.4 MB/s\u001b[0m eta \u001b[36m0:00:00\u001b[0m\n",
            "\u001b[2K     \u001b[90m━━━━━━━━━━━━━━━━━━━━━━━━━━━━━━━━━━━━━━\u001b[0m \u001b[32m224.5/224.5 kB\u001b[0m \u001b[31m21.8 MB/s\u001b[0m eta \u001b[36m0:00:00\u001b[0m\n",
            "\u001b[2K     \u001b[90m━━━━━━━━━━━━━━━━━━━━━━━━━━━━━━━━━━━━━━━━\u001b[0m \u001b[32m50.5/50.5 kB\u001b[0m \u001b[31m4.7 MB/s\u001b[0m eta \u001b[36m0:00:00\u001b[0m\n",
            "\u001b[2K     \u001b[90m━━━━━━━━━━━━━━━━━━━━━━━━━━━━━━━━━━━━━━\u001b[0m \u001b[32m136.6/136.6 kB\u001b[0m \u001b[31m12.2 MB/s\u001b[0m eta \u001b[36m0:00:00\u001b[0m\n",
            "\u001b[2K     \u001b[90m━━━━━━━━━━━━━━━━━━━━━━━━━━━━━━━━━━━━━━━━\u001b[0m \u001b[32m45.7/45.7 kB\u001b[0m \u001b[31m3.9 MB/s\u001b[0m eta \u001b[36m0:00:00\u001b[0m\n",
            "\u001b[2K     \u001b[90m━━━━━━━━━━━━━━━━━━━━━━━━━━━━━━━━━━━━━━━━\u001b[0m \u001b[32m58.3/58.3 kB\u001b[0m \u001b[31m6.2 MB/s\u001b[0m eta \u001b[36m0:00:00\u001b[0m\n",
            "\u001b[2K     \u001b[90m━━━━━━━━━━━━━━━━━━━━━━━━━━━━━━━━━━━━━━\u001b[0m \u001b[32m129.9/129.9 kB\u001b[0m \u001b[31m11.9 MB/s\u001b[0m eta \u001b[36m0:00:00\u001b[0m\n",
            "\u001b[2K     \u001b[90m━━━━━━━━━━━━━━━━━━━━━━━━━━━━━━━━━━━━━━━━\u001b[0m \u001b[32m58.3/58.3 kB\u001b[0m \u001b[31m5.5 MB/s\u001b[0m eta \u001b[36m0:00:00\u001b[0m\n",
            "\u001b[2K     \u001b[90m━━━━━━━━━━━━━━━━━━━━━━━━━━━━━━━━━━━━━━━━\u001b[0m \u001b[32m67.0/67.0 kB\u001b[0m \u001b[31m6.4 MB/s\u001b[0m eta \u001b[36m0:00:00\u001b[0m\n",
            "\u001b[2K     \u001b[90m━━━━━━━━━━━━━━━━━━━━━━━━━━━━━━━━━━━━━━━━\u001b[0m \u001b[32m72.5/72.5 kB\u001b[0m \u001b[31m8.2 MB/s\u001b[0m eta \u001b[36m0:00:00\u001b[0m\n",
            "\u001b[?25h  Building wheel for ffmpy (setup.py) ... \u001b[?25l\u001b[?25hdone\n"
          ]
        }
      ],
      "source": [
        "!pip install -q gradio"
      ]
    },
    {
      "cell_type": "code",
      "execution_count": null,
      "metadata": {
        "id": "p-ynblv_yv5I"
      },
      "outputs": [],
      "source": [
        "# Importamos todas las dependencias requeridas, en este caso será Gradio para desarrollar la interfaz grafica y openai para realizar los llamados a su API\n",
        "import gradio as gr\n",
        "import openai\n",
        "import pandas as pd\n",
        "\n",
        "from openai.embeddings_utils import get_embedding\n",
        "from openai.embeddings_utils import cosine_similarity"
      ]
    },
    {
      "cell_type": "markdown",
      "source": [
        "Debes obtener una API-TOKEN de OPENAI para usar su herramienta de embeddings"
      ],
      "metadata": {
        "id": "qNfU5PBITfHf"
      }
    },
    {
      "cell_type": "code",
      "source": [
        "openai.api_key = \"\" # Tú api-Key"
      ],
      "metadata": {
        "id": "WyCMIlTm3Yzl"
      },
      "execution_count": null,
      "outputs": []
    },
    {
      "cell_type": "markdown",
      "source": [
        "Selecciona un grupo de palabras de los que quieras realizar una representación vectorial, este será tu diccionario para luego analizar con respecto a un nuevo grupo de palabras."
      ],
      "metadata": {
        "id": "QEy0BIEbTq_Q"
      }
    },
    {
      "cell_type": "code",
      "source": [
        "# Se puede hacer embeeding de palabras o cadenas de texto\n",
        "palabras = [\"casa\", \"perro\", \"gato\", \"lobo\", \"leon\", \"zebra\", \"tigre\"]"
      ],
      "metadata": {
        "id": "_6D6qv1c1T8m"
      },
      "execution_count": null,
      "outputs": []
    },
    {
      "cell_type": "code",
      "source": [
        "diccionario = {}\n",
        "for i in palabras:\n",
        "    diccionario[i] = get_embedding(i, engine=\"text-embedding-ada-002\")\n"
      ],
      "metadata": {
        "id": "ykeTFfHR1ytF"
      },
      "execution_count": null,
      "outputs": []
    },
    {
      "cell_type": "markdown",
      "source": [
        "Imprime tu diccionario"
      ],
      "metadata": {
        "id": "sw2LugBwT93I"
      }
    },
    {
      "cell_type": "code",
      "source": [
        "diccionario.keys()"
      ],
      "metadata": {
        "id": "Q0utCAfw2UZE",
        "colab": {
          "base_uri": "https://localhost:8080/"
        },
        "outputId": "b6aa8d35-c139-4669-e031-67c0a38b666a"
      },
      "execution_count": null,
      "outputs": [
        {
          "output_type": "execute_result",
          "data": {
            "text/plain": [
              "dict_keys(['casa', 'perro', 'gato', 'lobo', 'leon', 'zebra', 'tigre'])"
            ]
          },
          "metadata": {},
          "execution_count": 7
        }
      ]
    },
    {
      "cell_type": "markdown",
      "source": [
        "Observa como tus palabras se convierten en números y commo se representa en este espacio vectorial."
      ],
      "metadata": {
        "id": "NQGaoaNqUBA-"
      }
    },
    {
      "cell_type": "code",
      "source": [
        "palabra = \"gato\"\n",
        "print(\"Primeros 10 valores de {}:\\n\".format(palabra), diccionario[palabra][:10])\n",
        "print(\"\\n\")\n",
        "print(\"Número de dimensiones del dato embebido\\n\", len(diccionario[palabra]))"
      ],
      "metadata": {
        "id": "w7S-J9Ao2cqs",
        "colab": {
          "base_uri": "https://localhost:8080/"
        },
        "outputId": "d922cc61-1a2a-470f-9be2-82503017efef"
      },
      "execution_count": null,
      "outputs": [
        {
          "output_type": "stream",
          "name": "stdout",
          "text": [
            "Primeros 10 valores de gato:\n",
            " [-0.02457735873758793, 0.0096813989803195, -0.000344603176927194, -0.011202854104340076, -0.007217160891741514, 0.011801033280789852, -0.022015592083334923, -0.024954471737146378, -0.005175549536943436, -0.019050704315304756]\n",
            "\n",
            "\n",
            "Número de dimensiones del dato embebido\n",
            " 1536\n"
          ]
        }
      ]
    },
    {
      "cell_type": "markdown",
      "source": [
        "Compara una nueva palabra con tu diccionario para ver que tanto se relaciona con tu diccionario."
      ],
      "metadata": {
        "id": "L0WD1eDdUKJ5"
      }
    },
    {
      "cell_type": "code",
      "source": [
        "n_palabra = \"perro\" # Palabra nueva a comparar\n",
        "palabra_comparar = \"casa\" # Palabra del diccionario con la que compararemos la nueva palabra\n",
        "n_palabra_embed = get_embedding(n_palabra, engine=\"text-embedding-ada-002\")\n",
        "similitud = cosine_similarity(diccionario[palabra_comparar], n_palabra_embed)\n",
        "print(similitud)"
      ],
      "metadata": {
        "id": "Chd0awWE26F3",
        "colab": {
          "base_uri": "https://localhost:8080/"
        },
        "outputId": "7805348d-7720-4a93-f194-9dda431e2b30"
      },
      "execution_count": null,
      "outputs": [
        {
          "output_type": "stream",
          "name": "stdout",
          "text": [
            "0.8465301181178586\n"
          ]
        }
      ]
    },
    {
      "cell_type": "code",
      "source": [],
      "metadata": {
        "id": "igDtrh8nLPmJ"
      },
      "execution_count": null,
      "outputs": []
    },
    {
      "cell_type": "markdown",
      "source": [
        "**Embedding Para Tecnologías 4.0**\n",
        "\n",
        "\n",
        "En esta sección el propósito es que evaluemos como esta herramienta  nos puede ayudar en la metodología de asociación de proyectos y tecnologías. A continuación presentamos un ejemplo de su uso en el match de Proyectos vs Tecnologías 4.0 Asociadas."
      ],
      "metadata": {
        "id": "gOSeX9D49s0d"
      }
    },
    {
      "cell_type": "code",
      "source": [
        "palabras=[\"Internet de las Cosas\",\"Impresión 3D\", \"Inteligencia Artificial\",\"Realidad Virtual\",\"Marketing digital\",\"Desarrollo de software\"]"
      ],
      "metadata": {
        "id": "p81tp6s7jJdh"
      },
      "execution_count": null,
      "outputs": []
    },
    {
      "cell_type": "code",
      "source": [
        "# Se puede hacer embeeding de palabras o cadenas de texto\n",
        "nueva_palabra = [\"IoT para el agro\", \"Curso de Metaverso\", \"Campaña en redes sociales\", \"Página Web\", \"Red Neuronal para detección de enfermedades\"]"
      ],
      "metadata": {
        "id": "KaPzNrQXfCjY"
      },
      "execution_count": null,
      "outputs": []
    },
    {
      "cell_type": "code",
      "source": [
        "diccionario = {}\n",
        "for i in palabras:\n",
        "    diccionario[i] = get_embedding(i, engine=\"text-embedding-ada-002\")\n"
      ],
      "metadata": {
        "id": "oIEnzfcCgWOW"
      },
      "execution_count": null,
      "outputs": []
    },
    {
      "cell_type": "code",
      "source": [
        "diccionario.keys()"
      ],
      "metadata": {
        "colab": {
          "base_uri": "https://localhost:8080/"
        },
        "id": "5L5z5I1EnUpd",
        "outputId": "c1f788b6-dd26-41a5-e623-a5bc852abe84"
      },
      "execution_count": null,
      "outputs": [
        {
          "output_type": "execute_result",
          "data": {
            "text/plain": [
              "dict_keys(['Internet de las Cosas', 'Impresión 3D', 'Inteligencia Artificial', 'Realidad Virtual', 'Marketing digital', 'Desarrollo de software'])"
            ]
          },
          "metadata": {},
          "execution_count": 12
        }
      ]
    },
    {
      "cell_type": "code",
      "source": [
        "for j in nueva_palabra:\n",
        "    palabra_comparar = \"Internet de las Cosas\" # Palabra del diccionario con la que compararemos la nueva palabra\n",
        "    n_palabra_embed = get_embedding(j, engine=\"text-embedding-ada-002\")\n",
        "    similitud = cosine_similarity(diccionario[palabra_comparar], n_palabra_embed)\n",
        "    print(similitud, j)"
      ],
      "metadata": {
        "colab": {
          "base_uri": "https://localhost:8080/"
        },
        "id": "SD2aYLJjjGgf",
        "outputId": "dde3917e-0bc7-4339-e45f-c9239498089b"
      },
      "execution_count": null,
      "outputs": [
        {
          "output_type": "stream",
          "name": "stdout",
          "text": [
            "0.862444970861298 IoT para el agro\n",
            "0.7744683407689873 Curso de Metaverso\n",
            "0.7868833799959325 Campaña en redes sociales\n",
            "0.7940575768312126 Página Web\n",
            "0.7540382249483955 Red Neuronal para detección de enfermedades\n"
          ]
        }
      ]
    },
    {
      "cell_type": "code",
      "source": [
        "for j in nueva_palabra:\n",
        "    palabra_comparar = \"Inteligencia Artificial\" # Palabra del diccionario con la que compararemos la nueva palabra\n",
        "    n_palabra_embed = get_embedding(j, engine=\"text-embedding-ada-002\")\n",
        "    similitud = cosine_similarity(diccionario[palabra_comparar], n_palabra_embed)\n",
        "    print(similitud, j)"
      ],
      "metadata": {
        "colab": {
          "base_uri": "https://localhost:8080/"
        },
        "id": "PErhmTcbvjLX",
        "outputId": "2e15e92e-35a2-4d84-853f-886e24cdd1c1"
      },
      "execution_count": null,
      "outputs": [
        {
          "output_type": "stream",
          "name": "stdout",
          "text": [
            "0.8327225369347743 IoT para el agro\n",
            "0.8076020441727477 Curso de Metaverso\n",
            "0.8055450526985231 Campaña en redes sociales\n",
            "0.8116850607133356 Página Web\n",
            "0.812194687574748 Red Neuronal para detección de enfermedades\n"
          ]
        }
      ]
    },
    {
      "cell_type": "code",
      "source": [
        "for j in nueva_palabra:\n",
        "    palabra_comparar = \"Realidad Virtual\" # Palabra del diccionario con la que compararemos la nueva palabra\n",
        "    n_palabra_embed = get_embedding(j, engine=\"text-embedding-ada-002\")\n",
        "    similitud = cosine_similarity(diccionario[palabra_comparar], n_palabra_embed)\n",
        "    print(similitud, j)"
      ],
      "metadata": {
        "colab": {
          "base_uri": "https://localhost:8080/"
        },
        "id": "Cegzm2zUwAef",
        "outputId": "d27dbf3c-246d-4086-8cf5-7914b4093929"
      },
      "execution_count": null,
      "outputs": [
        {
          "output_type": "stream",
          "name": "stdout",
          "text": [
            "0.7925535380480336 IoT para el agro\n",
            "0.8197708412295226 Curso de Metaverso\n",
            "0.7990902890923051 Campaña en redes sociales\n",
            "0.8091060935816125 Página Web\n",
            "0.7832794646936967 Red Neuronal para detección de enfermedades\n"
          ]
        }
      ]
    },
    {
      "cell_type": "code",
      "source": [
        "for j in nueva_palabra:\n",
        "    palabra_comparar = \"Desarrollo de software\" # Palabra del diccionario con la que compararemos la nueva palabra\n",
        "    n_palabra_embed = get_embedding(j, engine=\"text-embedding-ada-002\")\n",
        "    similitud = cosine_similarity(diccionario[palabra_comparar], n_palabra_embed)\n",
        "    print(similitud, j)"
      ],
      "metadata": {
        "colab": {
          "base_uri": "https://localhost:8080/"
        },
        "id": "wZKOeq6uw6Ih",
        "outputId": "ae910ee7-e8aa-411c-e339-f0faac2a0065"
      },
      "execution_count": null,
      "outputs": [
        {
          "output_type": "stream",
          "name": "stdout",
          "text": [
            "0.7989749864713025 IoT para el agro\n",
            "0.7996518808501385 Curso de Metaverso\n",
            "0.79386230093394 Campaña en redes sociales\n",
            "0.8257010705531005 Página Web\n",
            "0.779048054831909 Red Neuronal para detección de enfermedades\n"
          ]
        }
      ]
    },
    {
      "cell_type": "code",
      "source": [
        "for j in nueva_palabra:\n",
        "    palabra_comparar = \"Marketing digital\" # Palabra del diccionario con la que compararemos la nueva palabra\n",
        "    n_palabra_embed = get_embedding(j, engine=\"text-embedding-ada-002\")\n",
        "    similitud = cosine_similarity(diccionario[palabra_comparar], n_palabra_embed)\n",
        "    print(similitud, j)"
      ],
      "metadata": {
        "colab": {
          "base_uri": "https://localhost:8080/"
        },
        "id": "YM6BOxmyzcrg",
        "outputId": "92b7f718-7288-45ed-d372-3495d61c28c9"
      },
      "execution_count": null,
      "outputs": [
        {
          "output_type": "stream",
          "name": "stdout",
          "text": [
            "0.7870829476239349 IoT para el agro\n",
            "0.7846467032539547 Curso de Metaverso\n",
            "0.8516630069520595 Campaña en redes sociales\n",
            "0.8018545635076463 Página Web\n",
            "0.745167956895764 Red Neuronal para detección de enfermedades\n"
          ]
        }
      ]
    },
    {
      "cell_type": "markdown",
      "source": [
        "Repite el ejercicio anterior , creando un conjunto de palabras o diccionario de un contexto que conozcas, para despues evaluar su similitud , ingresando un nuevo conjunto de palabaras nuevas."
      ],
      "metadata": {
        "id": "qaOgxqx0sweJ"
      }
    }
  ]
}